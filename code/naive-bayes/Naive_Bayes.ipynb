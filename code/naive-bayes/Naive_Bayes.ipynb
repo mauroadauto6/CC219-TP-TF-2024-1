{
 "cells": [
  {
   "cell_type": "code",
   "execution_count": 3,
   "metadata": {
    "dotnet_interactive": {
     "language": "csharp"
    },
    "polyglot_notebook": {
     "kernelName": "csharp"
    }
   },
   "outputs": [],
   "source": [
    "import pandas as pd\n",
    "from sklearn.feature_extraction.text import TfidfVectorizer\n",
    "from sklearn.model_selection import train_test_split\n",
    "from sklearn.naive_bayes import MultinomialNB\n",
    "from sklearn.metrics import accuracy_score, classification_report, confusion_matrix\n",
    "import joblib"
   ]
  },
  {
   "cell_type": "code",
   "execution_count": 4,
   "metadata": {},
   "outputs": [],
   "source": [
    "# Cargar el DataFrame normalizado desde el archivo CSV\n",
    "df = pd.read_csv('../../data/data_normalized.csv')\n",
    "\n",
    "# Dividir los datos en entrenamiento y prueba\n",
    "X = df['normalized_review']\n",
    "y = df['sentiment']\n",
    "X_train, X_test, y_train, y_test = train_test_split(X, y, test_size=0.2, random_state=42)\n",
    "\n",
    "# Crear matriz TF-IDF para representar las reseñas como vectores numéricos\n",
    "tfidf_vectorizer = TfidfVectorizer(max_features=5000)  # Ajusta el número de características máximas según sea necesario\n",
    "X_train_tfidf = tfidf_vectorizer.fit_transform(X_train)\n",
    "X_test_tfidf = tfidf_vectorizer.transform(X_test)\n",
    "\n",
    "# Guardar el vectorizador TF-IDF\n",
    "joblib.dump(tfidf_vectorizer, '../gui/tfidf_vectorizer.pkl')\n",
    "\n",
    "# Entrenar el clasificador Naive Bayes\n",
    "nb_classifier = MultinomialNB()\n",
    "nb_classifier.fit(X_train_tfidf, y_train)\n",
    "\n",
    "# Guardar el modelo Naive Bayes entrenado\n",
    "joblib.dump(nb_classifier, 'naive_bayes_model.pkl')\n",
    "\n",
    "# Predecir en el conjunto de prueba\n",
    "y_pred = nb_classifier.predict(X_test_tfidf)"
   ]
  },
  {
   "cell_type": "code",
   "execution_count": 5,
   "metadata": {},
   "outputs": [
    {
     "name": "stdout",
     "output_type": "stream",
     "text": [
      "Precisión del clasificador Naive Bayes: 0.8526\n",
      "\n"
     ]
    }
   ],
   "source": [
    "# Evaluar el rendimiento del clasificador Naive Bayes\n",
    "accuracy = accuracy_score(y_test, y_pred)\n",
    "print(f'Precisión del clasificador Naive Bayes: {accuracy:.4f}\\n')"
   ]
  },
  {
   "cell_type": "code",
   "execution_count": 6,
   "metadata": {},
   "outputs": [
    {
     "name": "stdout",
     "output_type": "stream",
     "text": [
      "Matriz de Confusión:\n",
      "[[4196  765]\n",
      " [ 709 4330]] \n",
      "\n"
     ]
    }
   ],
   "source": [
    "print('Matriz de Confusión:')\n",
    "print(confusion_matrix(y_test, y_pred), '\\n')"
   ]
  },
  {
   "cell_type": "code",
   "execution_count": 7,
   "metadata": {},
   "outputs": [
    {
     "name": "stdout",
     "output_type": "stream",
     "text": [
      "Reporte de Clasificación:\n",
      "              precision    recall  f1-score   support\n",
      "\n",
      "    negative       0.86      0.85      0.85      4961\n",
      "    positive       0.85      0.86      0.85      5039\n",
      "\n",
      "    accuracy                           0.85     10000\n",
      "   macro avg       0.85      0.85      0.85     10000\n",
      "weighted avg       0.85      0.85      0.85     10000\n",
      "\n"
     ]
    }
   ],
   "source": [
    "print('Reporte de Clasificación:')\n",
    "print(classification_report(y_test, y_pred))"
   ]
  }
 ],
 "metadata": {
  "kernelspec": {
   "display_name": "Python 3",
   "language": "python",
   "name": "python3"
  },
  "language_info": {
   "codemirror_mode": {
    "name": "ipython",
    "version": 3
   },
   "file_extension": ".py",
   "mimetype": "text/x-python",
   "name": "python",
   "nbconvert_exporter": "python",
   "pygments_lexer": "ipython3",
   "version": "3.11.5"
  },
  "polyglot_notebook": {
   "kernelInfo": {
    "defaultKernelName": "csharp",
    "items": [
     {
      "aliases": [],
      "name": "csharp"
     }
    ]
   }
  }
 },
 "nbformat": 4,
 "nbformat_minor": 2
}
